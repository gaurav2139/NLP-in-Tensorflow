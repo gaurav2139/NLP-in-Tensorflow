{
 "cells": [
  {
   "cell_type": "code",
   "execution_count": 49,
   "metadata": {},
   "outputs": [],
   "source": [
    "import nltk"
   ]
  },
  {
   "cell_type": "code",
   "execution_count": 2,
   "metadata": {},
   "outputs": [],
   "source": [
    "sentence = [(\"the\", \"DT\"), (\"little\", \"JJ\"), (\"yellow\", \"JJ\"),(\"dog\", \"NN\"), (\"barked\", \"VBD\"), (\"at\", \"IN\"),  (\"the\", \"DT\"), (\"cat\", \"NN\")]\n",
    "grammar = \"NP: {<DT>?<JJ>*<NN>}\"\n",
    "grammar1 = \"VP: {<PRP>+<VB>+<JJ>?}\""
   ]
  },
  {
   "cell_type": "code",
   "execution_count": 3,
   "metadata": {},
   "outputs": [],
   "source": [
    "cp = nltk.RegexpParser(grammar)\n",
    "cp1 = nltk.RegexpParser(grammar1)"
   ]
  },
  {
   "cell_type": "code",
   "execution_count": 4,
   "metadata": {},
   "outputs": [],
   "source": [
    "result = cp.parse(sentence)"
   ]
  },
  {
   "cell_type": "code",
   "execution_count": 5,
   "metadata": {},
   "outputs": [
    {
     "name": "stdout",
     "output_type": "stream",
     "text": [
      "(S\n",
      "  (NP the/DT little/JJ yellow/JJ dog/NN)\n",
      "  barked/VBD\n",
      "  at/IN\n",
      "  (NP the/DT cat/NN))\n"
     ]
    }
   ],
   "source": [
    "print(result)"
   ]
  },
  {
   "cell_type": "code",
   "execution_count": 6,
   "metadata": {},
   "outputs": [],
   "source": [
    "#result.draw()"
   ]
  },
  {
   "cell_type": "code",
   "execution_count": 50,
   "metadata": {},
   "outputs": [],
   "source": [
    "doc = '''Initially I was doubtful about a non-CS student’s approach and grasp of the subject, but he adapted to it as naturally as a fish to water.'''"
   ]
  },
  {
   "cell_type": "code",
   "execution_count": 51,
   "metadata": {},
   "outputs": [],
   "source": [
    "tokens = nltk.word_tokenize(doc)"
   ]
  },
  {
   "cell_type": "code",
   "execution_count": 52,
   "metadata": {},
   "outputs": [],
   "source": [
    "pos_tags = nltk.pos_tag(tokens)"
   ]
  },
  {
   "cell_type": "code",
   "execution_count": 53,
   "metadata": {},
   "outputs": [
    {
     "name": "stdout",
     "output_type": "stream",
     "text": [
      "[('Initially', 'RB'), ('I', 'PRP'), ('was', 'VBD'), ('doubtful', 'JJ'), ('about', 'IN'), ('a', 'DT'), ('non-CS', 'JJ'), ('student', 'NN'), ('’', 'NNP'), ('s', 'NN'), ('approach', 'NN'), ('and', 'CC'), ('grasp', 'NN'), ('of', 'IN'), ('the', 'DT'), ('subject', 'NN'), (',', ','), ('but', 'CC'), ('he', 'PRP'), ('adapted', 'VBD'), ('to', 'TO'), ('it', 'PRP'), ('as', 'RB'), ('naturally', 'RB'), ('as', 'IN'), ('a', 'DT'), ('fish', 'NN'), ('to', 'TO'), ('water', 'NN'), ('.', '.')]\n"
     ]
    }
   ],
   "source": [
    "print(pos_tags)"
   ]
  },
  {
   "cell_type": "code",
   "execution_count": 54,
   "metadata": {},
   "outputs": [],
   "source": [
    "result_lor = cp.parse(pos_tags)"
   ]
  },
  {
   "cell_type": "code",
   "execution_count": 12,
   "metadata": {},
   "outputs": [
    {
     "name": "stdout",
     "output_type": "stream",
     "text": [
      "(S\n",
      "  Initially/RB\n",
      "  I/PRP\n",
      "  was/VBD\n",
      "  doubtful/JJ\n",
      "  about/IN\n",
      "  (NP a/DT non-CS/JJ student/NN)\n",
      "  ’/NNP\n",
      "  (NP s/NN)\n",
      "  (NP approach/NN)\n",
      "  and/CC\n",
      "  (NP grasp/NN)\n",
      "  of/IN\n",
      "  (NP the/DT subject/NN)\n",
      "  ,/,\n",
      "  but/CC\n",
      "  he/PRP\n",
      "  adapted/VBD\n",
      "  to/TO\n",
      "  it/PRP\n",
      "  as/RB\n",
      "  naturally/RB\n",
      "  as/IN\n",
      "  (NP a/DT fish/NN)\n",
      "  to/TO\n",
      "  (NP water/NN)\n",
      "  ./.)\n"
     ]
    }
   ],
   "source": [
    "print(result_lor)"
   ]
  },
  {
   "cell_type": "code",
   "execution_count": 21,
   "metadata": {},
   "outputs": [],
   "source": [
    "result_lor.draw()"
   ]
  },
  {
   "cell_type": "code",
   "execution_count": 13,
   "metadata": {},
   "outputs": [],
   "source": [
    "result_lor_1 = cp1.parse(pos_tags)"
   ]
  },
  {
   "cell_type": "code",
   "execution_count": 14,
   "metadata": {},
   "outputs": [
    {
     "name": "stdout",
     "output_type": "stream",
     "text": [
      "(S\n",
      "  Initially/RB\n",
      "  I/PRP\n",
      "  was/VBD\n",
      "  doubtful/JJ\n",
      "  about/IN\n",
      "  a/DT\n",
      "  non-CS/JJ\n",
      "  student/NN\n",
      "  ’/NNP\n",
      "  s/NN\n",
      "  approach/NN\n",
      "  and/CC\n",
      "  grasp/NN\n",
      "  of/IN\n",
      "  the/DT\n",
      "  subject/NN\n",
      "  ,/,\n",
      "  but/CC\n",
      "  he/PRP\n",
      "  adapted/VBD\n",
      "  to/TO\n",
      "  it/PRP\n",
      "  as/RB\n",
      "  naturally/RB\n",
      "  as/IN\n",
      "  a/DT\n",
      "  fish/NN\n",
      "  to/TO\n",
      "  water/NN\n",
      "  ./.)\n"
     ]
    }
   ],
   "source": [
    "print(result_lor_1)"
   ]
  },
  {
   "cell_type": "code",
   "execution_count": 18,
   "metadata": {},
   "outputs": [],
   "source": [
    "chunks = nltk.ne_chunk(pos_tags)"
   ]
  },
  {
   "cell_type": "code",
   "execution_count": 19,
   "metadata": {
    "scrolled": true
   },
   "outputs": [
    {
     "name": "stdout",
     "output_type": "stream",
     "text": [
      "(S\n",
      "  Initially/RB\n",
      "  I/PRP\n",
      "  was/VBD\n",
      "  doubtful/JJ\n",
      "  about/IN\n",
      "  a/DT\n",
      "  non-CS/JJ\n",
      "  student/NN\n",
      "  ’/NNP\n",
      "  s/NN\n",
      "  approach/NN\n",
      "  and/CC\n",
      "  grasp/NN\n",
      "  of/IN\n",
      "  the/DT\n",
      "  subject/NN\n",
      "  ,/,\n",
      "  but/CC\n",
      "  he/PRP\n",
      "  adapted/VBD\n",
      "  to/TO\n",
      "  it/PRP\n",
      "  as/RB\n",
      "  naturally/RB\n",
      "  as/IN\n",
      "  a/DT\n",
      "  fish/NN\n",
      "  to/TO\n",
      "  water/NN\n",
      "  ./.)\n"
     ]
    }
   ],
   "source": [
    "print(chunks)"
   ]
  },
  {
   "cell_type": "code",
   "execution_count": 20,
   "metadata": {},
   "outputs": [],
   "source": [
    "chunks.draw()"
   ]
  }
