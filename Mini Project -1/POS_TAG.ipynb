{
 "cells": [
  {
   "cell_type": "markdown",
   "metadata": {},
   "source": [
    "## POS TAGGING\n",
    "#### Using a Tagger\n",
    "\n",
    "A part-of-speech tagger, or POS-tagger, processes a sequence of words, and attaches a part of speech tag to each word (don't forget to import nltk):"
   ]
  },
  {
   "cell_type": "code",
   "execution_count": 3,
   "metadata": {
    "scrolled": false
   },
   "outputs": [
    {
     "data": {
      "text/plain": [
       "[('And', 'CC'),\n",
       " ('now', 'RB'),\n",
       " ('for', 'IN'),\n",
       " ('something', 'NN'),\n",
       " ('completely', 'RB'),\n",
       " ('different', 'JJ')]"
      ]
     },
     "execution_count": 3,
     "metadata": {},
     "output_type": "execute_result"
    }
   ],
   "source": [
    "import nltk\n",
    "from nltk.tokenize import word_tokenize\n",
    "text = word_tokenize(\"And now for something completely different\")\n",
    "nltk.pos_tag(text)"
   ]
  },
  {
   "cell_type": "markdown",
   "metadata": {},
   "source": [
    "Here we see that and is CC, a coordinating conjunction; now and completely are RB, or adverbs; for is IN, a preposition; something is NN, a noun; and different is JJ, an adjective"
   ]
  },
  {
   "cell_type": "code",
   "execution_count": 4,
   "metadata": {},
   "outputs": [
    {
     "data": {
      "text/plain": [
       "[('They', 'PRP'),\n",
       " ('refuse', 'VBP'),\n",
       " ('to', 'TO'),\n",
       " ('permit', 'VB'),\n",
       " ('us', 'PRP'),\n",
       " ('to', 'TO'),\n",
       " ('obtain', 'VB'),\n",
       " ('the', 'DT'),\n",
       " ('refuse', 'NN'),\n",
       " ('permit', 'NN')]"
      ]
     },
     "execution_count": 4,
     "metadata": {},
     "output_type": "execute_result"
    }
   ],
   "source": [
    "text = word_tokenize(\"They refuse to permit us to obtain the refuse permit\")\n",
    "nltk.pos_tag(text)"
   ]
  },
  {
   "cell_type": "markdown",
   "metadata": {},
   "source": [
    "Notice that refuse and permit both appear as a present tense verb (VBP) and a noun (NN). E.g. refUSE is a verb meaning \"deny,\" while REFuse is a noun meaning \"trash\" (i.e. they are not homophones). Thus, we need to know which word is being used in order to pronounce the text correctly. (For this reason, text-to-speech systems usually perform POS-tagging.)"
   ]
  },
  {
   "cell_type": "code",
   "execution_count": 6,
   "metadata": {},
   "outputs": [
    {
     "name": "stderr",
     "output_type": "stream",
     "text": [
      "[nltk_data] Downloading package brown to C:\\Users\\Gaurav\n",
      "[nltk_data]     Choube\\AppData\\Roaming\\nltk_data...\n",
      "[nltk_data]   Unzipping corpora\\brown.zip.\n"
     ]
    },
    {
     "data": {
      "text/plain": [
       "True"
      ]
     },
     "execution_count": 6,
     "metadata": {},
     "output_type": "execute_result"
    }
   ],
   "source": [
    "nltk.download('brown')"
   ]
  },
  {
   "cell_type": "markdown",
   "metadata": {},
   "source": [
    "Lexical categories like \"noun\" and part-of-speech tags like NN seem to have their uses, but the details will be obscure to many readers. You might wonder what justification there is for introducing this extra level of information. Many of these categories arise from superficial analysis the distribution of words in text. Consider the following analysis involving woman (a noun), bought (a verb), over (a preposition), and the (a determiner). The text.similar() method takes a word w, finds all contexts w1w w2, then finds all words w' that appear in the same context, i.e. w1w'w2."
   ]
  },
  {
   "cell_type": "code",
   "execution_count": 7,
   "metadata": {},
   "outputs": [
    {
     "name": "stdout",
     "output_type": "stream",
     "text": [
      "man time day year car moment world house family child country boy\n",
      "state job place way war girl work word\n"
     ]
    }
   ],
   "source": [
    "text = nltk.Text(word.lower() for word in nltk.corpus.brown.words())\n",
    "text.similar('woman')"
   ]
  },
  {
   "cell_type": "code",
   "execution_count": 8,
   "metadata": {},
   "outputs": [
    {
     "name": "stdout",
     "output_type": "stream",
     "text": [
      "made said done put had seen found given left heard was been brought\n",
      "set got that took in told felt\n"
     ]
    }
   ],
   "source": [
    "text.similar('bought')"
   ]
  },
  {
   "cell_type": "code",
   "execution_count": 9,
   "metadata": {},
   "outputs": [
    {
     "name": "stdout",
     "output_type": "stream",
     "text": [
      "in on to of and for with from at by that into as up out down through\n",
      "is all about\n"
     ]
    }
   ],
   "source": [
    "text.similar('over')"
   ]
  },
  {
   "cell_type": "code",
   "execution_count": 10,
   "metadata": {},
   "outputs": [
    {
     "name": "stdout",
     "output_type": "stream",
     "text": [
      "a his this their its her an that our any all one these my in your no\n",
      "some other and\n"
     ]
    }
   ],
   "source": [
    "text.similar('the')"
   ]
  },
  {
   "cell_type": "markdown",
   "metadata": {},
   "source": [
    "Observe that searching for woman finds nouns; searching for bought mostly finds verbs; searching for over generally finds prepositions; searching for the finds several determiners. A tagger can correctly identify the tags on these words in the context of a sentence, e.g. The woman bought over $150,000 worth of clothes."
   ]
  },
  {
   "cell_type": "markdown",
   "metadata": {},
   "source": [
    "### Tagged Corpora\n",
    "####  Representing Tagged Tokens\n",
    "By convention in NLTK, a tagged token is represented using a tuple consisting of the token and the tag. We can create one of these special tuples from the standard string representation of a tagged token, using the function str2tuple():"
   ]
  },
  {
   "cell_type": "code",
   "execution_count": 11,
   "metadata": {},
   "outputs": [
    {
     "data": {
      "text/plain": [
       "('fly', 'NN')"
      ]
     },
     "execution_count": 11,
     "metadata": {},
     "output_type": "execute_result"
    }
   ],
   "source": [
    "tagged_token = nltk.tag.str2tuple('fly/NN')\n",
    "tagged_token"
   ]
  },
  {
   "cell_type": "code",
   "execution_count": 12,
   "metadata": {},
   "outputs": [],
   "source": [
    "sent = '''\n",
    "... The/AT grand/JJ jury/NN commented/VBD on/IN a/AT number/NN of/IN\n",
    "... other/AP topics/NNS ,/, AMONG/IN them/PPO the/AT Atlanta/NP and/CC\n",
    "... Fulton/NP-tl County/NN-tl purchasing/VBG departments/NNS which/WDT it/PPS\n",
    "... said/VBD ``/`` ARE/BER well/QL operated/VBN and/CC follow/VB generally/RB\n",
    "... accepted/VBN practices/NNS which/WDT inure/VB to/IN the/AT best/JJT\n",
    "... interest/NN of/IN both/ABX governments/NNS ''/'' ./.\n",
    "... '''"
   ]
  },
  {
   "cell_type": "code",
   "execution_count": 14,
   "metadata": {},
   "outputs": [
    {
     "data": {
      "text/plain": [
       "[('The', 'AT'),\n",
       " ('grand', 'JJ'),\n",
       " ('jury', 'NN'),\n",
       " ('commented', 'VBD'),\n",
       " ('on', 'IN'),\n",
       " ('a', 'AT'),\n",
       " ('number', 'NN'),\n",
       " ('of', 'IN'),\n",
       " ('other', 'AP'),\n",
       " ('topics', 'NNS'),\n",
       " (',', ','),\n",
       " ('AMONG', 'IN'),\n",
       " ('them', 'PPO'),\n",
       " ('the', 'AT'),\n",
       " ('Atlanta', 'NP'),\n",
       " ('and', 'CC'),\n",
       " ('Fulton', 'NP-TL'),\n",
       " ('County', 'NN-TL'),\n",
       " ('purchasing', 'VBG'),\n",
       " ('departments', 'NNS'),\n",
       " ('which', 'WDT'),\n",
       " ('it', 'PPS'),\n",
       " ('said', 'VBD'),\n",
       " ('``', '``'),\n",
       " ('ARE', 'BER'),\n",
       " ('well', 'QL'),\n",
       " ('operated', 'VBN'),\n",
       " ('and', 'CC'),\n",
       " ('follow', 'VB'),\n",
       " ('generally', 'RB'),\n",
       " ('accepted', 'VBN'),\n",
       " ('practices', 'NNS'),\n",
       " ('which', 'WDT'),\n",
       " ('inure', 'VB'),\n",
       " ('to', 'IN'),\n",
       " ('the', 'AT'),\n",
       " ('best', 'JJT'),\n",
       " ('interest', 'NN'),\n",
       " ('of', 'IN'),\n",
       " ('both', 'ABX'),\n",
       " ('governments', 'NNS'),\n",
       " (\"''\", \"''\"),\n",
       " ('.', '.')]"
      ]
     },
     "execution_count": 14,
     "metadata": {},
     "output_type": "execute_result"
    }
   ],
   "source": [
    "[nltk.tag.str2tuple(t) for t in sent.split()]"
   ]
  },
  {
   "cell_type": "code",
   "execution_count": 15,
   "metadata": {},
   "outputs": [
    {
     "data": {
      "text/plain": [
       "[('The', 'DET'), ('Fulton', 'NOUN'), Ellipsis]"
      ]
     },
     "execution_count": 15,
     "metadata": {},
     "output_type": "execute_result"
    }
   ],
   "source": [
    "nltk.corpus.brown.tagged_words()\n",
    "[('The', 'AT'), ('Fulton', 'NP-TL'), ...]\n",
    "nltk.corpus.brown.tagged_words(tagset='universal')\n",
    "[('The', 'DET'), ('Fulton', 'NOUN'), ...]"
   ]
  },
  {
   "cell_type": "markdown",
   "metadata": {},
   "source": [
    "Whenever a corpus contains tagged text, the NLTK corpus interface will have a tagged_words() method. Here are some more examples, again using the output format illustrated for the Brown Corpus:"
   ]
  },
  {
   "cell_type": "code",
   "execution_count": 17,
   "metadata": {},
   "outputs": [
    {
     "name": "stderr",
     "output_type": "stream",
     "text": [
      "[nltk_data] Downloading package nps_chat to C:\\Users\\Gaurav\n",
      "[nltk_data]     Choube\\AppData\\Roaming\\nltk_data...\n",
      "[nltk_data]   Unzipping corpora\\nps_chat.zip.\n"
     ]
    },
    {
     "data": {
      "text/plain": [
       "True"
      ]
     },
     "execution_count": 17,
     "metadata": {},
     "output_type": "execute_result"
    }
   ],
   "source": [
    "nltk.download('nps_chat')"
   ]
  },
  {
   "cell_type": "code",
   "execution_count": 19,
   "metadata": {},
   "outputs": [
    {
     "name": "stderr",
     "output_type": "stream",
     "text": [
      "[nltk_data] Downloading package conll2000 to C:\\Users\\Gaurav\n",
      "[nltk_data]     Choube\\AppData\\Roaming\\nltk_data...\n",
      "[nltk_data]   Unzipping corpora\\conll2000.zip.\n"
     ]
    },
    {
     "data": {
      "text/plain": [
       "True"
      ]
     },
     "execution_count": 19,
     "metadata": {},
     "output_type": "execute_result"
    }
   ],
   "source": [
    "nltk.download('conll2000')"
   ]
  },
  {
   "cell_type": "code",
   "execution_count": 22,
   "metadata": {},
   "outputs": [
    {
     "name": "stderr",
     "output_type": "stream",
     "text": [
      "[nltk_data] Downloading package treebank to C:\\Users\\Gaurav\n",
      "[nltk_data]     Choube\\AppData\\Roaming\\nltk_data...\n",
      "[nltk_data]   Unzipping corpora\\treebank.zip.\n"
     ]
    },
    {
     "data": {
      "text/plain": [
       "True"
      ]
     },
     "execution_count": 22,
     "metadata": {},
     "output_type": "execute_result"
    }
   ],
   "source": [
    "nltk.download('treebank')"
   ]
  },
  {
   "cell_type": "code",
   "execution_count": 23,
   "metadata": {
    "scrolled": true
   },
   "outputs": [
    {
     "name": "stdout",
     "output_type": "stream",
     "text": [
      "[('now', 'RB'), ('im', 'PRP'), ('left', 'VBD'), ...]\n"
     ]
    },
    {
     "data": {
      "text/plain": [
       "[('Pierre', 'NNP'), ('Vinken', 'NNP'), (',', ','), ...]"
      ]
     },
     "execution_count": 23,
     "metadata": {},
     "output_type": "execute_result"
    }
   ],
   "source": [
    "print(nltk.corpus.nps_chat.tagged_words())\n",
    "nltk.corpus.conll2000.tagged_words()\n",
    "nltk.corpus.treebank.tagged_words()"
   ]
  },
  {
   "cell_type": "code",
   "execution_count": 25,
   "metadata": {},
   "outputs": [
    {
     "name": "stderr",
     "output_type": "stream",
     "text": [
      "[nltk_data] Downloading package sinica_treebank to C:\\Users\\Gaurav\n",
      "[nltk_data]     Choube\\AppData\\Roaming\\nltk_data...\n",
      "[nltk_data]   Unzipping corpora\\sinica_treebank.zip.\n"
     ]
    },
    {
     "data": {
      "text/plain": [
       "True"
      ]
     },
     "execution_count": 25,
     "metadata": {},
     "output_type": "execute_result"
    }
   ],
   "source": [
    "nltk.download('sinica_treebank')"
   ]
  },
  {
   "cell_type": "code",
   "execution_count": 27,
   "metadata": {},
   "outputs": [
    {
     "name": "stderr",
     "output_type": "stream",
     "text": [
      "[nltk_data] Downloading package mac_morpho to C:\\Users\\Gaurav\n",
      "[nltk_data]     Choube\\AppData\\Roaming\\nltk_data...\n",
      "[nltk_data]   Unzipping corpora\\mac_morpho.zip.\n"
     ]
    },
    {
     "data": {
      "text/plain": [
       "True"
      ]
     },
     "execution_count": 27,
     "metadata": {},
     "output_type": "execute_result"
    }
   ],
   "source": [
    "nltk.download('mac_morpho')"
   ]
  },
  {
   "cell_type": "code",
   "execution_count": 29,
   "metadata": {},
   "outputs": [
    {
     "name": "stderr",
     "output_type": "stream",
     "text": [
      "[nltk_data] Downloading package conll2002 to C:\\Users\\Gaurav\n",
      "[nltk_data]     Choube\\AppData\\Roaming\\nltk_data...\n",
      "[nltk_data]   Unzipping corpora\\conll2002.zip.\n"
     ]
    },
    {
     "data": {
      "text/plain": [
       "True"
      ]
     },
     "execution_count": 29,
     "metadata": {},
     "output_type": "execute_result"
    }
   ],
   "source": [
    "nltk.download('conll2002')"
   ]
  },
  {
   "cell_type": "code",
   "execution_count": 31,
   "metadata": {},
   "outputs": [
    {
     "name": "stderr",
     "output_type": "stream",
     "text": [
      "[nltk_data] Downloading package cess_cat to C:\\Users\\Gaurav\n",
      "[nltk_data]     Choube\\AppData\\Roaming\\nltk_data...\n",
      "[nltk_data]   Unzipping corpora\\cess_cat.zip.\n"
     ]
    },
    {
     "data": {
      "text/plain": [
       "True"
      ]
     },
     "execution_count": 31,
     "metadata": {},
     "output_type": "execute_result"
    }
   ],
   "source": [
    "nltk.download('cess_cat')"
   ]
  },
  {
   "cell_type": "code",
   "execution_count": 32,
   "metadata": {
    "scrolled": true
   },
   "outputs": [
    {
     "data": {
      "text/plain": [
       "[('El', 'da0ms0'), ('Tribunal_Suprem', 'np0000o'), ...]"
      ]
     },
     "execution_count": 32,
     "metadata": {},
     "output_type": "execute_result"
    }
   ],
   "source": [
    "nltk.corpus.sinica_treebank.tagged_words()"
   ]
  },
  {
   "cell_type": "code",
   "execution_count": 35,
   "metadata": {},
   "outputs": [
    {
     "data": {
      "text/plain": [
       "[('Sao', 'NC'), ('Paulo', 'VMI'), ('(', 'Fpa'), ...]"
      ]
     },
     "execution_count": 35,
     "metadata": {},
     "output_type": "execute_result"
    }
   ],
   "source": [
    "nltk.corpus.conll2002.tagged_words()"
   ]
  },
  {
   "cell_type": "code",
   "execution_count": 33,
   "metadata": {
    "scrolled": true
   },
   "outputs": [
    {
     "data": {
      "text/plain": [
       "[('মহিষের', 'NN'), ('সন্তান', 'NN'), (':', 'SYM'), ...]"
      ]
     },
     "execution_count": 33,
     "metadata": {},
     "output_type": "execute_result"
    }
   ],
   "source": [
    "nltk.corpus.indian.tagged_words()"
   ]
  },
  {
   "cell_type": "code",
   "execution_count": 34,
   "metadata": {
    "scrolled": true
   },
   "outputs": [
    {
     "data": {
      "text/plain": [
       "[('Jersei', 'N'), ('atinge', 'V'), ('média', 'N'), ...]"
      ]
     },
     "execution_count": 34,
     "metadata": {},
     "output_type": "execute_result"
    }
   ],
   "source": [
    "nltk.corpus.mac_morpho.tagged_words()"
   ]
  },
  {
   "cell_type": "code",
   "execution_count": 36,
   "metadata": {
    "scrolled": true
   },
   "outputs": [
    {
     "data": {
      "text/plain": [
       "[('El', 'da0ms0'), ('Tribunal_Suprem', 'np0000o'), ...]"
      ]
     },
     "execution_count": 36,
     "metadata": {},
     "output_type": "execute_result"
    }
   ],
   "source": [
    "nltk.corpus.cess_cat.tagged_words()"
   ]
  },
  {
   "attachments": {
    "tag-indian.png": {
     "image/png": "[encoded data removed]"
    }
   },
   "cell_type": "markdown",
   "metadata": {},
   "source": [
    "> nltk.corpus.indian (POS-Tagged Data from Four Indian Languages: Bangla, Hindi, Marathi, and Telugu)\n",
    "\n",
    "![tag-indian.png](attachment:tag-indian.png)\n",
    "\n"
   ]
  },
  {
   "cell_type": "markdown",
   "metadata": {},
   "source": [
    "| Tag | Meaning | English Examples |\n",
    "| --- | --- | --- |\n",
    "| ADJ | adjective | new, good, high, special, big, local |\n",
    "|ADP | adposition | on, of, at, with, by, into, under |\n",
    "| ADV | adverb | really, already, still, early, now |\n",
    "| CONJ| conjunction | and, or, but, if, while, although |\n",
    "| DET | determiner | , article the, a, some, most, every, no, which |\n",
    "| NOUN | noun | year, home, costs, time, Africa |\n",
    "| NUM | numeral | twenty-four, fourth, 1991, 14:24 | \n",
    "| PRT | particle | at, on, out, over per, that, up, with |\n",
    "| PRON | pronoun | he, their, her, its, my, I, us |\n",
    "| VERB | verb | is, say, told, given, playing, would |\n",
    "| dot | punctuation marks | . , ; ! |\n",
    "| X | other | ersatz, esprit, dunno, gr8, univeristy |"
   ]
  },
  {
   "cell_type": "markdown",
   "metadata": {},
   "source": [
    "## A Universal Part-of-Speech Tagset\n",
    "\n",
    "### Nouns"
   ]
  },
  {
   "cell_type": "code",
   "execution_count": 41,
   "metadata": {
    "scrolled": true
   },
   "outputs": [
    {
     "name": "stderr",
     "output_type": "stream",
     "text": [
      "[nltk_data] Downloading package universal_tagset to C:\\Users\\Gaurav\n",
      "[nltk_data]     Choube\\AppData\\Roaming\\nltk_data...\n",
      "[nltk_data]   Unzipping taggers\\universal_tagset.zip.\n"
     ]
    },
    {
     "data": {
      "text/plain": [
       "True"
      ]
     },
     "execution_count": 41,
     "metadata": {},
     "output_type": "execute_result"
    }
   ],
   "source": [
    "nltk.download('universal_tagset')"
   ]
  },
  {
   "cell_type": "code",
   "execution_count": 42,
   "metadata": {
    "scrolled": true
   },
   "outputs": [
    {
     "data": {
      "text/plain": [
       "[('NOUN', 30654),\n",
       " ('VERB', 14399),\n",
       " ('ADP', 12355),\n",
       " ('.', 11928),\n",
       " ('DET', 11389),\n",
       " ('ADJ', 6706),\n",
       " ('ADV', 3349),\n",
       " ('CONJ', 2717),\n",
       " ('PRON', 2535),\n",
       " ('PRT', 2264),\n",
       " ('NUM', 2166),\n",
       " ('X', 92)]"
      ]
     },
     "execution_count": 42,
     "metadata": {},
     "output_type": "execute_result"
    }
   ],
   "source": [
    "from nltk.corpus import brown\n",
    "brown_news_tagged = brown.tagged_words(categories='news', tagset='universal')\n",
    "tag_fd = nltk.FreqDist(tag for (word, tag) in brown_news_tagged)\n",
    "tag_fd.most_common()"
   ]
  },
  {
   "cell_type": "code",
   "execution_count": 43,
   "metadata": {},
   "outputs": [
    {
     "data": {
      "image/png": "[encoded data removed]",
      "text/plain": [
       "<Figure size 432x288 with 1 Axes>"
      ]
     },
     "metadata": {
      "needs_background": "light"
     },
     "output_type": "display_data"
    },
    {
     "data": {
      "text/plain": [
       "<matplotlib.axes._subplots.AxesSubplot at 0x234518f3940>"
      ]
     },
     "execution_count": 43,
     "metadata": {},
     "output_type": "execute_result"
    }
   ],
   "source": [
    "tag_fd.plot(cumulative=True)"
   ]
  },
  {
   "cell_type": "code",
   "execution_count": 44,
   "metadata": {
    "scrolled": true
   },
   "outputs": [
    {
     "data": {
      "text/plain": [
       "['NOUN',\n",
       " 'DET',\n",
       " 'ADJ',\n",
       " 'ADP',\n",
       " '.',\n",
       " 'VERB',\n",
       " 'CONJ',\n",
       " 'NUM',\n",
       " 'ADV',\n",
       " 'PRT',\n",
       " 'PRON',\n",
       " 'X']"
      ]
     },
     "execution_count": 44,
     "metadata": {},
     "output_type": "execute_result"
    }
   ],
   "source": [
    "word_tag_pairs = nltk.bigrams(brown_news_tagged)\n",
    "noun_preceders = [a[1] for (a, b) in word_tag_pairs if b[1] == 'NOUN']\n",
    "fdist = nltk.FreqDist(noun_preceders)\n",
    "[tag for (tag, _) in fdist.most_common()]"
   ]
  },
  {
   "cell_type": "markdown",
   "metadata": {},
   "source": [
    "> This confirms our assertion that nouns occur after determiners and adjectives, including numeral adjectives (tagged as NUM)."
   ]
  },
  {
   "cell_type": "code",
   "execution_count": 49,
   "metadata": {
    "scrolled": false
   },
   "outputs": [
    {
     "data": {
      "text/plain": [
       "['is',\n",
       " 'said',\n",
       " 'was',\n",
       " 'are',\n",
       " 'be',\n",
       " 'has',\n",
       " 'have',\n",
       " 'will',\n",
       " 'says',\n",
       " 'would',\n",
       " 'were',\n",
       " 'had',\n",
       " 'been',\n",
       " 'could',\n",
       " \"'s\",\n",
       " 'can',\n",
       " 'do',\n",
       " 'say',\n",
       " 'make',\n",
       " 'may',\n",
       " 'did',\n",
       " 'rose',\n",
       " 'made',\n",
       " 'does',\n",
       " 'expected',\n",
       " 'buy',\n",
       " 'take',\n",
       " 'get',\n",
       " 'might',\n",
       " 'sell',\n",
       " 'added',\n",
       " 'sold',\n",
       " 'help',\n",
       " 'including',\n",
       " 'should',\n",
       " 'reported',\n",
       " 'according',\n",
       " 'pay',\n",
       " 'compared',\n",
       " 'being',\n",
       " 'fell',\n",
       " 'began',\n",
       " 'based',\n",
       " 'used',\n",
       " 'closed',\n",
       " \"'re\",\n",
       " 'want',\n",
       " 'see',\n",
       " 'took',\n",
       " 'yield',\n",
       " 'offered',\n",
       " 'set',\n",
       " 'priced',\n",
       " 'approved',\n",
       " 'come',\n",
       " 'noted',\n",
       " 'cut',\n",
       " 'ended',\n",
       " 'found',\n",
       " 'increased',\n",
       " 'become',\n",
       " 'think',\n",
       " 'named',\n",
       " 'go',\n",
       " 'trying',\n",
       " 'proposed',\n",
       " 'received',\n",
       " 'growing',\n",
       " 'declined',\n",
       " 'held',\n",
       " 'give',\n",
       " 'came',\n",
       " 'use',\n",
       " 'put',\n",
       " 'making',\n",
       " 'continue',\n",
       " 'raise',\n",
       " 'estimated',\n",
       " 'called',\n",
       " 'paid',\n",
       " 'designed',\n",
       " 'going',\n",
       " 'expects',\n",
       " 'seeking',\n",
       " 'must',\n",
       " 'plans',\n",
       " 'wo',\n",
       " 'increasing',\n",
       " 'saying',\n",
       " 'got',\n",
       " 'owns',\n",
       " 'trading',\n",
       " 'acquired',\n",
       " 'gained',\n",
       " 'fined',\n",
       " 'reached',\n",
       " 'holding',\n",
       " 'announced',\n",
       " 'filed',\n",
       " 'became',\n",
       " 'seek',\n",
       " 'included',\n",
       " 'using',\n",
       " 'led',\n",
       " 'decided',\n",
       " 'keep',\n",
       " 'disclosed',\n",
       " 'agreed',\n",
       " 'find',\n",
       " 'failed',\n",
       " 'run',\n",
       " 'taken',\n",
       " 'know',\n",
       " 'coming',\n",
       " \"'ve\",\n",
       " 'completed',\n",
       " 'built',\n",
       " 'raised',\n",
       " 'traded',\n",
       " 'lost',\n",
       " 'continued',\n",
       " 'paying',\n",
       " 'include',\n",
       " 'believe',\n",
       " 'receive',\n",
       " 'posted',\n",
       " 'wants',\n",
       " 'scheduled',\n",
       " 'went',\n",
       " 'indicated',\n",
       " 'provide',\n",
       " 'helped',\n",
       " 'needed',\n",
       " 'goes',\n",
       " 'told',\n",
       " 'result',\n",
       " 'need',\n",
       " 'caused',\n",
       " 'continues',\n",
       " 'dropped',\n",
       " 'showed',\n",
       " 'ordered',\n",
       " 'changed',\n",
       " 'face',\n",
       " 'continuing',\n",
       " 'launched',\n",
       " 'gives',\n",
       " 'reduce',\n",
       " \"'m\",\n",
       " 'lead',\n",
       " 'planned',\n",
       " 'wanted',\n",
       " 'following',\n",
       " 'remains',\n",
       " 'followed',\n",
       " 'remain',\n",
       " 'meet',\n",
       " 'believes',\n",
       " 'trade',\n",
       " 'includes',\n",
       " 'improve',\n",
       " 'buying',\n",
       " 'issued',\n",
       " 'rise',\n",
       " 'leading',\n",
       " 'ca',\n",
       " 'involved',\n",
       " 'known',\n",
       " 'like',\n",
       " 'makes',\n",
       " 'having',\n",
       " 'rejected',\n",
       " 'rising',\n",
       " 'increase',\n",
       " 'turned',\n",
       " 'operating',\n",
       " 'read',\n",
       " 'feel',\n",
       " 'win',\n",
       " 'given',\n",
       " 'prevent',\n",
       " 'offset',\n",
       " 'barred',\n",
       " 'earned',\n",
       " 'consented',\n",
       " 'support',\n",
       " 'gave',\n",
       " 'totaled',\n",
       " 'acquire',\n",
       " 'required',\n",
       " 'begin',\n",
       " 'require',\n",
       " 'offer',\n",
       " 'preferred',\n",
       " 'produced',\n",
       " 'bought',\n",
       " 'offering',\n",
       " 'asked',\n",
       " 'carry',\n",
       " 'build',\n",
       " 'takes',\n",
       " 'seem',\n",
       " 'introduced',\n",
       " 'taking',\n",
       " 'won',\n",
       " 'aimed',\n",
       " 'hurt',\n",
       " 'adds',\n",
       " 'cited',\n",
       " 'sought',\n",
       " 'bring',\n",
       " 'remaining',\n",
       " 'considered',\n",
       " 'suspended',\n",
       " 'prove',\n",
       " 'looking',\n",
       " 'doing',\n",
       " 'involving',\n",
       " 'opened',\n",
       " 'working',\n",
       " 'close',\n",
       " 'own',\n",
       " 'report',\n",
       " 'left',\n",
       " 'boosted',\n",
       " 'giving',\n",
       " 'fixed',\n",
       " 'listed',\n",
       " 'runs',\n",
       " 'purchasing',\n",
       " 'consider',\n",
       " 'prepared',\n",
       " 'hit',\n",
       " 'getting',\n",
       " 'alleged',\n",
       " 'look',\n",
       " 'allowed',\n",
       " 'approve',\n",
       " 'wrote',\n",
       " 'reduced',\n",
       " 'fall',\n",
       " 'advanced',\n",
       " 'appears',\n",
       " 'mixed',\n",
       " 'described',\n",
       " 'expect',\n",
       " 'manufacturing',\n",
       " 'spent',\n",
       " 'According',\n",
       " 'hopes',\n",
       " 'underlying',\n",
       " 'produce',\n",
       " 'work',\n",
       " 'placed',\n",
       " 'allow',\n",
       " 'sells',\n",
       " 'operate',\n",
       " 'extend',\n",
       " 'surged',\n",
       " 'jumped',\n",
       " 'boost',\n",
       " 'slowing',\n",
       " 'provided',\n",
       " 'seems',\n",
       " 'ending',\n",
       " 'selling',\n",
       " 'opposed',\n",
       " 'created',\n",
       " 'move',\n",
       " 'seen',\n",
       " 'comment',\n",
       " 'valued',\n",
       " 'losing',\n",
       " 'mature',\n",
       " 'provides',\n",
       " 'let',\n",
       " 'stopped',\n",
       " 'worked',\n",
       " 'thought',\n",
       " 'watch',\n",
       " 'introduce',\n",
       " 'related',\n",
       " 'improved',\n",
       " 'raising',\n",
       " 'seemed',\n",
       " 'force',\n",
       " 'beginning',\n",
       " 'leave',\n",
       " 'believed',\n",
       " 'stand',\n",
       " 'developed',\n",
       " 'decline',\n",
       " 'expire',\n",
       " 'managing',\n",
       " 'hold',\n",
       " 'invested',\n",
       " 'suggests',\n",
       " 'represent',\n",
       " 'settle',\n",
       " 'change',\n",
       " 'contributed',\n",
       " 'indicates',\n",
       " 'asking',\n",
       " 'elaborate',\n",
       " 'shows',\n",
       " 'refused',\n",
       " 'quoted',\n",
       " 'comes',\n",
       " 'ease',\n",
       " 'passed',\n",
       " 'Says',\n",
       " 'avoid',\n",
       " 'threatened',\n",
       " 'cause',\n",
       " 'end',\n",
       " 'violate',\n",
       " 'operates',\n",
       " 'kept',\n",
       " \"'ll\",\n",
       " 'soared',\n",
       " 'eliminated',\n",
       " 'becomes',\n",
       " 'create',\n",
       " 'print',\n",
       " 'shall',\n",
       " 'show',\n",
       " 'replaced',\n",
       " 'owned',\n",
       " 'argue',\n",
       " 'beat',\n",
       " 'elected',\n",
       " 'complete',\n",
       " 'issue',\n",
       " 'act',\n",
       " 'return',\n",
       " 'registered',\n",
       " 'suffer',\n",
       " 'worried',\n",
       " 'succeed',\n",
       " 'block',\n",
       " 'contain',\n",
       " 'occur',\n",
       " 'pursue',\n",
       " 'combined',\n",
       " 'requires',\n",
       " 'met',\n",
       " 'brought',\n",
       " 'started',\n",
       " 'covered',\n",
       " 'turn',\n",
       " 'running',\n",
       " 'eliminate',\n",
       " 'file',\n",
       " 'plunged',\n",
       " 'fallen',\n",
       " 'ran',\n",
       " 'fired',\n",
       " 'becoming',\n",
       " 'contained',\n",
       " 'managed',\n",
       " 'Take',\n",
       " 'suggested',\n",
       " 'accused',\n",
       " 'appeared',\n",
       " 'slow',\n",
       " 'helping',\n",
       " 'discovered',\n",
       " 'add',\n",
       " 'referred',\n",
       " 'oppose',\n",
       " 'stop',\n",
       " 'claim',\n",
       " 'sent',\n",
       " 'formed',\n",
       " 'resulting',\n",
       " 'turning',\n",
       " 'limited',\n",
       " 'shipped',\n",
       " 'forced',\n",
       " 'send',\n",
       " 'attract',\n",
       " 'admitting',\n",
       " 'denying',\n",
       " 'disgorge',\n",
       " 'attributed',\n",
       " 'causing',\n",
       " 'studied',\n",
       " 'resigned',\n",
       " 'cutting',\n",
       " 'voted',\n",
       " 'settled',\n",
       " 'expand',\n",
       " 'stood',\n",
       " 'retired',\n",
       " 'moved',\n",
       " 'pending',\n",
       " 'providing',\n",
       " 'anticipated',\n",
       " 'decide',\n",
       " 'creating',\n",
       " 'prompted',\n",
       " 'developing',\n",
       " 'start',\n",
       " 'maintained',\n",
       " 'expanding',\n",
       " 'follows',\n",
       " 'ranged',\n",
       " 'focused',\n",
       " 'climbed',\n",
       " 'reflect',\n",
       " 'insist',\n",
       " 'owed',\n",
       " 'happen',\n",
       " 'adjusted',\n",
       " 'awarded',\n",
       " 'reporting',\n",
       " 'talk',\n",
       " 'offers',\n",
       " 'written',\n",
       " 'urged',\n",
       " 'carried',\n",
       " 'identified',\n",
       " 'confirmed',\n",
       " 'playing',\n",
       " 'thinking',\n",
       " 'calls',\n",
       " 'means',\n",
       " 'tried',\n",
       " 'lying',\n",
       " 'asks',\n",
       " 'building',\n",
       " 'suggest',\n",
       " 'falling',\n",
       " 'discuss',\n",
       " 'matched',\n",
       " 'concluded',\n",
       " 'keeping',\n",
       " \"'d\",\n",
       " 'returned',\n",
       " 'withdrawn',\n",
       " 'bid',\n",
       " 'saw',\n",
       " 'signed',\n",
       " 'financing',\n",
       " 'assuming',\n",
       " 'adopted',\n",
       " 'attempting',\n",
       " 'accepted',\n",
       " 'cover',\n",
       " 'facing',\n",
       " 'risk',\n",
       " 'expanded',\n",
       " 'leaving',\n",
       " 'raises',\n",
       " 'declared',\n",
       " 'exercise',\n",
       " 'finished',\n",
       " 'regarding',\n",
       " 'finance',\n",
       " 'charge',\n",
       " 'starting',\n",
       " 'realize',\n",
       " 'felt',\n",
       " 'remained',\n",
       " 'expressed',\n",
       " 'done',\n",
       " 'replace',\n",
       " 'veto',\n",
       " 'stay',\n",
       " 'delivered',\n",
       " 'join',\n",
       " 'publishing',\n",
       " 'enters',\n",
       " 'appear',\n",
       " 'talking',\n",
       " 'heard',\n",
       " 'dumped',\n",
       " 'imported',\n",
       " 'assume',\n",
       " 'declining',\n",
       " 'capture',\n",
       " 'grew',\n",
       " 'holds',\n",
       " 'lift',\n",
       " 'treat',\n",
       " 'receiving',\n",
       " 'joined',\n",
       " 'reflecting',\n",
       " 'released',\n",
       " 'maintaining',\n",
       " 'cost',\n",
       " 'lowered',\n",
       " 'costs',\n",
       " 'exceed',\n",
       " 'gaining',\n",
       " 'considering',\n",
       " 'determined',\n",
       " 'ruled',\n",
       " 'hope',\n",
       " 'located',\n",
       " 'tied',\n",
       " 'heads',\n",
       " 'applied',\n",
       " 'failing',\n",
       " 'showing',\n",
       " 'apply',\n",
       " 'protecting',\n",
       " 'tells',\n",
       " 'complained',\n",
       " 'ask',\n",
       " 'triggered',\n",
       " 'entered',\n",
       " 'total',\n",
       " 'producing',\n",
       " 'denied',\n",
       " 'reducing',\n",
       " 'reflects',\n",
       " 'account',\n",
       " 'predicting',\n",
       " 'intended',\n",
       " 'purchased',\n",
       " 'blamed',\n",
       " 'worry',\n",
       " 'broken',\n",
       " 'carries',\n",
       " 'learned',\n",
       " 'renewed',\n",
       " 'walk',\n",
       " 'viewed',\n",
       " 'die',\n",
       " 'speculated',\n",
       " 'needs',\n",
       " 'gets',\n",
       " 'wait',\n",
       " 'caught',\n",
       " 'claims',\n",
       " 'choose',\n",
       " 'fail',\n",
       " 'insists',\n",
       " 'knows',\n",
       " 'pass',\n",
       " 'grown',\n",
       " 'gotten',\n",
       " 'grows',\n",
       " 'responded',\n",
       " 'play',\n",
       " 'try',\n",
       " 'mean',\n",
       " 'encourage',\n",
       " 'chosen',\n",
       " 'admits',\n",
       " 'Do',\n",
       " 'dismissed',\n",
       " 'realized',\n",
       " 'serve',\n",
       " 'associated',\n",
       " 'slipped',\n",
       " 'argued',\n",
       " 'citing',\n",
       " 'seeks',\n",
       " 'preventing',\n",
       " 'sparked',\n",
       " 'review',\n",
       " 'opening',\n",
       " 'fueled',\n",
       " 'negotiate',\n",
       " 'drop',\n",
       " 'pleased',\n",
       " 'spend',\n",
       " 'care',\n",
       " 'represents',\n",
       " 'spread',\n",
       " 'explains',\n",
       " 'push',\n",
       " 'divided',\n",
       " 'proposing',\n",
       " 'gain',\n",
       " 'representing',\n",
       " 'financed',\n",
       " 'execute',\n",
       " 'existing',\n",
       " 'discussed',\n",
       " 'uses',\n",
       " 'live',\n",
       " 'ring',\n",
       " 'signal',\n",
       " 'focus',\n",
       " 'hired',\n",
       " 'limit',\n",
       " 'begins',\n",
       " 'reflected',\n",
       " 'hear',\n",
       " 'determine',\n",
       " 'profit',\n",
       " 'marketed',\n",
       " 'warned',\n",
       " 'qualified',\n",
       " 'died',\n",
       " 'surviving',\n",
       " 'study',\n",
       " 'explained',\n",
       " 'imposed',\n",
       " 'recognize',\n",
       " 'eased',\n",
       " 'indicate',\n",
       " 'permit',\n",
       " 'retain',\n",
       " 'yielding',\n",
       " 'boosts',\n",
       " 'obtain',\n",
       " 'employs',\n",
       " 'banned',\n",
       " 'pointed',\n",
       " 'leaves',\n",
       " 'withdraw',\n",
       " 'refund',\n",
       " 'collected',\n",
       " 'upheld',\n",
       " 'benefited',\n",
       " 'doubled',\n",
       " 'attached',\n",
       " 'jump',\n",
       " 'compete',\n",
       " 'incurred',\n",
       " 'removed',\n",
       " 'honor',\n",
       " 'varying',\n",
       " 'marketing',\n",
       " 'protect',\n",
       " 'reach',\n",
       " 'share',\n",
       " 'requested',\n",
       " 'grant',\n",
       " 'stepping',\n",
       " 'direct',\n",
       " 'curb',\n",
       " 'controlling',\n",
       " 'snapped',\n",
       " 'tend',\n",
       " 'cast',\n",
       " 'clear',\n",
       " 'permitted',\n",
       " 'remove',\n",
       " 'revive',\n",
       " 'draw',\n",
       " 'predicted',\n",
       " 'suspect',\n",
       " 'coupled',\n",
       " 'belong',\n",
       " 'call',\n",
       " 'describes',\n",
       " 'played',\n",
       " 'committed',\n",
       " 'advertising',\n",
       " 'tested',\n",
       " 'revived',\n",
       " 'earns',\n",
       " 'feeling',\n",
       " 'turns',\n",
       " 'executed',\n",
       " 'killed',\n",
       " 'presented',\n",
       " 'deserve',\n",
       " 'mention',\n",
       " 'seeing',\n",
       " 'discussing',\n",
       " 'convicted',\n",
       " 'telling',\n",
       " 'agree',\n",
       " 'denies',\n",
       " 'pursued',\n",
       " 'spurred',\n",
       " 'accommodate',\n",
       " 'surrendered',\n",
       " 'gone',\n",
       " 'teach',\n",
       " 'booming',\n",
       " 'serving',\n",
       " 'restore',\n",
       " 'restructured',\n",
       " 'taught',\n",
       " 'feared',\n",
       " 'meant',\n",
       " 'adding',\n",
       " 'publishes',\n",
       " 'improving',\n",
       " 'ignoring',\n",
       " 'represented',\n",
       " 'funded',\n",
       " 'involve',\n",
       " 'charged',\n",
       " 'fared',\n",
       " 'eliminates',\n",
       " 'tumbled',\n",
       " 'redeemed',\n",
       " 'resolve',\n",
       " 'stem',\n",
       " 'hire',\n",
       " 'obtained',\n",
       " 'develop',\n",
       " 'employed',\n",
       " 'prohibits',\n",
       " 'promote',\n",
       " 'impose',\n",
       " 'consist',\n",
       " 'investigating',\n",
       " 'accepting',\n",
       " 'plan',\n",
       " 'insisted',\n",
       " 'contacted',\n",
       " 'note',\n",
       " 'driving',\n",
       " 'contends',\n",
       " 'cites',\n",
       " 'point',\n",
       " 'sign',\n",
       " 'printed',\n",
       " 'advertise',\n",
       " 'breaks',\n",
       " 'damaged',\n",
       " 'check',\n",
       " 'thinks',\n",
       " 'looming',\n",
       " 'expecting',\n",
       " 'exercised',\n",
       " 'auctioned',\n",
       " 'disappointed',\n",
       " 'subordinated',\n",
       " 'respond',\n",
       " 'secured',\n",
       " 'integrated',\n",
       " 'performed',\n",
       " 'targeting',\n",
       " 'stepped',\n",
       " 'moving',\n",
       " 'split',\n",
       " 'Buy',\n",
       " 'stemming',\n",
       " 'executing',\n",
       " 'shut',\n",
       " 'writing',\n",
       " 'regulated',\n",
       " 'stands',\n",
       " 'attend',\n",
       " 'reopen',\n",
       " 'drawn',\n",
       " 'Put',\n",
       " 'notes',\n",
       " 'weaken',\n",
       " 'trailed',\n",
       " 'deliver',\n",
       " 'occurred',\n",
       " 'changing',\n",
       " 'accept',\n",
       " 'expelled',\n",
       " 'amounted',\n",
       " 'scrutinizing',\n",
       " 'suspend',\n",
       " 'compares',\n",
       " 'backed',\n",
       " 'vote',\n",
       " 'covers',\n",
       " 'knew',\n",
       " 'joining',\n",
       " 'record',\n",
       " 'regarded',\n",
       " 'copy',\n",
       " 'conclude',\n",
       " 'ought',\n",
       " 'dominated',\n",
       " 'pushed',\n",
       " 'closing',\n",
       " 'rumored',\n",
       " 'respected',\n",
       " 'specified',\n",
       " 'understand',\n",
       " 'supported',\n",
       " 'perform',\n",
       " 'declaring',\n",
       " 'struggling',\n",
       " 'abandoned',\n",
       " 'considers',\n",
       " 'warning',\n",
       " 'offsetting',\n",
       " 'break',\n",
       " 'follow',\n",
       " 'figure',\n",
       " 'increases',\n",
       " 'proving',\n",
       " 'edged',\n",
       " 'Buying',\n",
       " 'forecast',\n",
       " 'specify',\n",
       " 'extended',\n",
       " 'tendered',\n",
       " 'unveiled',\n",
       " 'treating',\n",
       " 'exposed',\n",
       " 'industrialized',\n",
       " 'regulate',\n",
       " 'contracted',\n",
       " 'blip',\n",
       " 'vary',\n",
       " 'slid',\n",
       " 'succeeds',\n",
       " 'lifted',\n",
       " 'acts',\n",
       " 'welcomed',\n",
       " 'squeezed',\n",
       " 'fed',\n",
       " 'casting',\n",
       " 'prolonged',\n",
       " 'recorded',\n",
       " 'announce',\n",
       " 'reward',\n",
       " 'bowed',\n",
       " 'justify',\n",
       " 'asserted',\n",
       " 'appealing',\n",
       " 'faces',\n",
       " 'rule',\n",
       " 'inched',\n",
       " 'manufacture',\n",
       " 'fund',\n",
       " 'anticipates',\n",
       " 'link',\n",
       " 'describe',\n",
       " 'roll',\n",
       " 'calculate',\n",
       " 'transferring',\n",
       " 'favored',\n",
       " 'claiming',\n",
       " 'hurting',\n",
       " 'investing',\n",
       " 'trained',\n",
       " 'instituted',\n",
       " 'introducing',\n",
       " 'vowed',\n",
       " 'deemed',\n",
       " 'pose',\n",
       " 'concerned',\n",
       " 'accelerated',\n",
       " 'feels',\n",
       " 'solved',\n",
       " 'forgiven',\n",
       " 'stored',\n",
       " 'assembled',\n",
       " 'totaling',\n",
       " 'linked',\n",
       " 'forces',\n",
       " 'attempts',\n",
       " 'advertised',\n",
       " 'marks',\n",
       " 'sweeping',\n",
       " 'invest',\n",
       " 'kicked',\n",
       " 'brings',\n",
       " 'scrambled',\n",
       " 'diversify',\n",
       " 'swing',\n",
       " 'skyrocketed',\n",
       " 'targeted',\n",
       " 'repaid',\n",
       " 'open',\n",
       " 'crippled',\n",
       " 'lent',\n",
       " 'belongs',\n",
       " 'stressed',\n",
       " 'leveling',\n",
       " 'manufactured',\n",
       " 'pick',\n",
       " 'cite',\n",
       " 'provoke',\n",
       " 'last',\n",
       " 'climbing',\n",
       " 'Excluding',\n",
       " 'adjusting',\n",
       " 'counts',\n",
       " 'handle',\n",
       " 'polled',\n",
       " 'drink',\n",
       " 'sets',\n",
       " 'sidestep',\n",
       " 'fare',\n",
       " 'letting',\n",
       " 'entering',\n",
       " 'ban',\n",
       " 'visiting',\n",
       " 'endorsed',\n",
       " 'balked',\n",
       " 'compensate',\n",
       " 'terminated',\n",
       " 'modify',\n",
       " 'operated',\n",
       " 'entitles',\n",
       " 'romanticized',\n",
       " 'spends',\n",
       " 'condemned',\n",
       " 'competing',\n",
       " 'returning',\n",
       " 'murdered',\n",
       " 'load',\n",
       " 'lives',\n",
       " 'recommend',\n",
       " 'fighting',\n",
       " 'fills',\n",
       " 'charges',\n",
       " 'exist',\n",
       " 'Stung',\n",
       " 'banning',\n",
       " 'admitted',\n",
       " 'talks',\n",
       " 'launch',\n",
       " 'attracted',\n",
       " 'featured',\n",
       " 'devote',\n",
       " 'featuring',\n",
       " 'suing',\n",
       " 'shrinks',\n",
       " 'tripled',\n",
       " 'pumping',\n",
       " 'contributing',\n",
       " 'spur',\n",
       " 'concentrated',\n",
       " 'export',\n",
       " 'pull',\n",
       " 'approach',\n",
       " 'step',\n",
       " 'regard',\n",
       " 'breach',\n",
       " 'pleaded',\n",
       " 'inspired',\n",
       " 'defended',\n",
       " 'treated',\n",
       " 'casts',\n",
       " 'violated',\n",
       " 'enforce',\n",
       " 'surfaced',\n",
       " 'concentrate',\n",
       " 'stressing',\n",
       " 'suffered',\n",
       " 'loved',\n",
       " 'advised',\n",
       " 'studying',\n",
       " 'pushing',\n",
       " 'earn',\n",
       " 'save',\n",
       " 'interviewed',\n",
       " 'explain',\n",
       " 'gauge',\n",
       " 'measured',\n",
       " 'deny',\n",
       " 'hampered',\n",
       " 'fill',\n",
       " 'nominated',\n",
       " 'assured',\n",
       " 'finding',\n",
       " 'conducting',\n",
       " 'tracks',\n",
       " 'merge',\n",
       " 'merged',\n",
       " 'banking',\n",
       " 'achieve',\n",
       " 'acquiring',\n",
       " 'post',\n",
       " 'wish',\n",
       " 'retained',\n",
       " 'spark',\n",
       " 'chaired',\n",
       " 'deal',\n",
       " 'submit',\n",
       " 'sending',\n",
       " 'test',\n",
       " 'relegated',\n",
       " 'alleging',\n",
       " 'mounted',\n",
       " 'harass',\n",
       " 'crossing',\n",
       " 'involves',\n",
       " 'assist',\n",
       " 'killing',\n",
       " 'served',\n",
       " 'understood',\n",
       " 'touch',\n",
       " 'Asked',\n",
       " 'design',\n",
       " 'retaining',\n",
       " 'belonging',\n",
       " 'compiled',\n",
       " 'Guaranteed',\n",
       " 'positioned',\n",
       " 'plunging',\n",
       " 'locked',\n",
       " 'starts',\n",
       " 'waiting',\n",
       " 'rolled',\n",
       " 'lock',\n",
       " 'drifted',\n",
       " 'measures',\n",
       " 'Estimated',\n",
       " ...]"
      ]
     },
     "execution_count": 49,
     "metadata": {},
     "output_type": "execute_result"
    }
   ],
   "source": [
    "wsj = nltk.corpus.treebank.tagged_words(tagset='universal')\n",
    "word_tag_fd = nltk.FreqDist(wsj)\n",
    "[wt[0] for (wt, _) in word_tag_fd.most_common() if wt[1] == 'VERB']"
   ]
  },
  {
   "cell_type": "markdown",
   "metadata": {},
   "source": [
    "> Note that the items being counted in the frequency distribution are word-tag pairs. Since words and tags are paired, we can treat the word as a condition and the tag as an event, and initialize a conditional frequency distribution with a list of condition-event pairs. This lets us see a frequency-ordered list of tags given a word:"
   ]
  },
  {
   "cell_type": "code",
   "execution_count": 47,
   "metadata": {},
   "outputs": [
    {
     "data": {
      "text/plain": [
       "[('VERB', 28), ('NOUN', 20)]"
      ]
     },
     "execution_count": 47,
     "metadata": {},
     "output_type": "execute_result"
    }
   ],
   "source": [
    "cfd1 = nltk.ConditionalFreqDist(wsj)\n",
    "cfd1['yield'].most_common()"
   ]
  },
  {
   "cell_type": "code",
   "execution_count": 48,
   "metadata": {
    "scrolled": true
   },
   "outputs": [
    {
     "data": {
      "text/plain": [
       "[('VERB', 25), ('NOUN', 3)]"
      ]
     },
     "execution_count": 48,
     "metadata": {},
     "output_type": "execute_result"
    }
   ],
   "source": [
    "cfd1['cut'].most_common()"
   ]
  },
  {
   "cell_type": "markdown",
   "metadata": {},
   "source": [
    "### Unsimplified Tags\n",
    "\n",
    "Let's find the most frequent nouns of each noun part-of-speech type. We'll find all tags starting with NN, and provides a few example words for each one. You will see that there are many variants of NN; the most important contain $ for possessive nouns, S for plural nouns (since plural nouns typically end in s) and P for proper nouns. In addition, most of the tags have suffix modifiers: -NC for citations, -HL for words in headlines and -TL for titles (a feature of Brown tags)."
   ]
  },
  {
   "cell_type": "code",
   "execution_count": 60,
   "metadata": {},
   "outputs": [],
   "source": [
    "def findtags(tag_prefix, tagged_text):\n",
    "    cfd = nltk.ConditionalFreqDist((tag, word) for (word, tag) in tagged_text \n",
    "                                   if tag.startswith(tag_prefix))\n",
    "    return dict((tag, cfd[tag].most_common(5)) for tag in cfd.conditions())\n",
    "\n",
    "    tagdict = findtags('NN', nltk.corpus.brown.tagged_words(categories='news'))\n",
    "    for tag in sorted(tagdict):\n",
    "        print(tag, tagdict[tag])"
   ]
  },
  {
   "cell_type": "markdown",
   "metadata": {},
   "source": [
    "#### Exploring Tagged Corpora\n",
    "\n",
    "Suppose we're studying the word often and want to see how it is used in text. We could ask to see the words that follow often"
   ]
  },
  {
   "cell_type": "code",
   "execution_count": 61,
   "metadata": {},
   "outputs": [
    {
     "data": {
      "text/plain": [
       "[',',\n",
       " '.',\n",
       " 'accomplished',\n",
       " 'analytically',\n",
       " 'appear',\n",
       " 'apt',\n",
       " 'associated',\n",
       " 'assuming',\n",
       " 'became',\n",
       " 'become',\n",
       " 'been',\n",
       " 'began',\n",
       " 'call',\n",
       " 'called',\n",
       " 'carefully',\n",
       " 'chose',\n",
       " 'classified',\n",
       " 'colorful',\n",
       " 'composed',\n",
       " 'contain',\n",
       " 'differed',\n",
       " 'difficult',\n",
       " 'encountered',\n",
       " 'enough',\n",
       " 'equate',\n",
       " 'extremely',\n",
       " 'found',\n",
       " 'happens',\n",
       " 'have',\n",
       " 'ignored',\n",
       " 'in',\n",
       " 'involved',\n",
       " 'more',\n",
       " 'needed',\n",
       " 'nightly',\n",
       " 'observed',\n",
       " 'of',\n",
       " 'on',\n",
       " 'out',\n",
       " 'quite',\n",
       " 'represent',\n",
       " 'responsible',\n",
       " 'revamped',\n",
       " 'seclude',\n",
       " 'set',\n",
       " 'shortened',\n",
       " 'sing',\n",
       " 'sounded',\n",
       " 'stated',\n",
       " 'still',\n",
       " 'sung',\n",
       " 'supported',\n",
       " 'than',\n",
       " 'to',\n",
       " 'when',\n",
       " 'work']"
      ]
     },
     "execution_count": 61,
     "metadata": {},
     "output_type": "execute_result"
    }
   ],
   "source": [
    "brown_learned_text = brown.words(categories='learned')\n",
    "sorted(set(b for (a, b) in nltk.bigrams(brown_learned_text) if a == 'often'))"
   ]
  },
  {
   "cell_type": "code",
   "execution_count": 62,
   "metadata": {},
   "outputs": [
    {
     "name": "stdout",
     "output_type": "stream",
     "text": [
      "VERB  ADV  ADP  ADJ    .  PRT \n",
      "  37    8    7    6    4    2 \n"
     ]
    }
   ],
   "source": [
    "brown_lrnd_tagged = brown.tagged_words(categories='learned', tagset='universal')\n",
    "tags = [b[1] for (a, b) in nltk.bigrams(brown_lrnd_tagged) if a[0] == 'often']\n",
    "fd = nltk.FreqDist(tags)\n",
    "fd.tabulate()"
   ]
  }
 ],
 "metadata": {
  "kernelspec": {
   "display_name": "Python 3",
   "language": "python",
   "name": "python3"
  },
  "language_info": {
   "codemirror_mode": {
    "name": "ipython",
    "version": 3
   },
   "file_extension": ".py",
   "mimetype": "text/x-python",
   "name": "python",
   "nbconvert_exporter": "python",
   "pygments_lexer": "ipython3",
   "version": "3.7.3"
  }
 },
 "nbformat": 4,
 "nbformat_minor": 4
}
