{
 "cells": [
  {
   "cell_type": "markdown",
   "metadata": {},
   "source": [
    "## TOKENIZATION AND SEQUENCES"
   ]
  },
  {
   "cell_type": "code",
   "execution_count": 2,
   "metadata": {},
   "outputs": [],
   "source": [
    "#importing tokenizer and pad_sequences for text processing and sequencing the data\n",
    "from tensorflow.keras.preprocessing.text import Tokenizer\n",
    "from tensorflow.keras.preprocessing.text import Tokenizer\n",
    "from tensorflow.keras.preprocessing.sequence import pad_sequences"
   ]
  },
  {
   "cell_type": "code",
   "execution_count": 3,
   "metadata": {},
   "outputs": [
    {
     "name": "stdout",
     "output_type": "stream",
     "text": [
      "{'love': 1, 'my': 2, 'i': 3, 'dog': 4, 'cat': 5, 'you': 6}\n",
      "['i love my dog', 'I, love my cat', 'You love my dog!']\n"
     ]
    }
   ],
   "source": [
    "sentences = [\n",
    "    'i love my dog',\n",
    "    'I, love my cat',\n",
    "    'You love my dog!'\n",
    "]\n",
    "\n",
    "tokenizer = Tokenizer(num_words = 100) # tokenizing till first 100 words\n",
    "tokenizer.fit_on_texts(sentences) #fiting the sentences to the tokenizer \n",
    "word_index = tokenizer.word_index\n",
    "print(word_index) #creates a dictonary for the tokens\n",
    "print(sentences) #prints the sentences"
   ]
  },
  {
   "cell_type": "code",
   "execution_count": 4,
   "metadata": {
    "scrolled": false
   },
   "outputs": [
    {
     "name": "stdout",
     "output_type": "stream",
     "text": [
      "Test sequence: [[5, 1, 3, 2, 4], [2, 4, 1, 1, 1]]\n",
      "\n",
      "Sentence sequence: [[5, 3, 2, 4], [5, 3, 2, 7], [6, 3, 2, 4], [8, 6, 9, 2, 4, 10, 11]]\n",
      "\n",
      "Word indexes: {'<OOV>': 1, 'my': 2, 'love': 3, 'dog': 4, 'i': 5, 'you': 6, 'cat': 7, 'do': 8, 'think': 9, 'is': 10, 'amazing': 11}\n",
      "\n",
      "Sentences: ['i love my dog', 'I, love my cat', 'You love my dog!', 'Do you think my dog is amazing?']\n",
      "\n",
      " [[ 5  3  2  4  0  0  0]\n",
      " [ 5  3  2  7  0  0  0]\n",
      " [ 6  3  2  4  0  0  0]\n",
      " [ 8  6  9  2  4 10 11]]\n",
      "\n",
      " [[5 1 3 2 4]\n",
      " [2 4 1 1 1]]\n"
     ]
    }
   ],
   "source": [
    "sentences = [\n",
    "    'i love my dog',\n",
    "    'I, love my cat',\n",
    "    'You love my dog!',\n",
    "    'Do you think my dog is amazing?'\n",
    "]\n",
    "\n",
    "\n",
    "tokenizer = Tokenizer(num_words = 100, oov_token = '<OOV>') #oov out of vocacb\n",
    "tokenizer.fit_on_texts(sentences)\n",
    "word_index = tokenizer.word_index\n",
    "\n",
    "\n",
    "sequence = tokenizer.texts_to_sequences(sentences)\n",
    "pad = pad_sequences(sequence, padding='post')\n",
    "\n",
    "test_data = [\n",
    "             'i really love my dog',\n",
    "              'my dog really loves me'\n",
    "]\n",
    "\n",
    "test_seq = tokenizer.texts_to_sequences(test_data)\n",
    "padd = pad_sequences(test_seq)\n",
    "\n",
    "print(\"Test sequence:\", test_seq)   #maps the tokens and prints the tokens as numerical form\n",
    "print(\"\\nSentence sequence:\", sequence)  #numerical sequence for the sentence\n",
    "print(\"\\nWord indexes:\", word_index)    #word indexing\n",
    "print(\"\\nSentences:\", sentences)\n",
    "print(\"\\n\",pad)\n",
    "print(\"\\n\", padd)"
   ]
  }
 ],
 "metadata": {
  "kernelspec": {
   "display_name": "Python 3",
   "language": "python",
   "name": "python3"
  },
  "language_info": {
   "codemirror_mode": {
    "name": "ipython",
    "version": 3
   },
   "file_extension": ".py",
   "mimetype": "text/x-python",
   "name": "python",
   "nbconvert_exporter": "python",
   "pygments_lexer": "ipython3",
   "version": "3.7.3"
  }
 },
 "nbformat": 4,
 "nbformat_minor": 4
}
